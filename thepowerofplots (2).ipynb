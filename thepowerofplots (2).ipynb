{
 "cells": [
  {
   "cell_type": "code",
   "execution_count": 5,
   "id": "35cb1438-0362-43b2-a492-17631978fde6",
   "metadata": {},
   "outputs": [
    {
     "ename": "SyntaxError",
     "evalue": "invalid syntax (3379134669.py, line 7)",
     "output_type": "error",
     "traceback": [
      "\u001b[0;36m  File \u001b[0;32m\"/var/folders/md/g17hh6nj7gj3sr4d3nvd8v400000gq/T/ipykernel_90936/3379134669.py\"\u001b[0;36m, line \u001b[0;32m7\u001b[0m\n\u001b[0;31m    mouse_metadata(1)path = \"data/Mouse_metadata(1).csv\"\u001b[0m\n\u001b[0m                     ^\u001b[0m\n\u001b[0;31mSyntaxError\u001b[0m\u001b[0;31m:\u001b[0m invalid syntax\n"
     ]
    }
   ],
   "source": [
    "# Dependencies and Setup\n",
    "import matplotlib.pyplot as plt\n",
    "import pandas as pd\n",
    "import scipy.stats as st\n",
    "\n",
    "# Study data files\n",
    "mouse_metadata(1)path = \"data/Mouse_metadata(1).csv\"\n",
    "study_results_path = \"data/Study_results.csv\"\n",
    "\n",
    "# Read the mouse data and the study results\n",
    "mouse_metadata(1) = pd.read_csv(mouse_metadata(1)_path)\n",
    "study_results = pd.read_csv(study_results_path)\n",
    "\n",
    "# Combine the data into a single dataset\n",
    "total<- merge(mouse_metadata(1), study_results)\n",
    "\n",
    "# Display the data table for preview\n",
    "pd.set_option('display_Mouse_Id, 3')\n",
    "pd.set_option('display_Drug_Regimen, 3')\n",
    "pd.set_option('display_Sex, 3')\n",
    "pd.set_option('display_age_months, 3')\n",
    "pd.set_option('display_weight, 3')\n",
    "\n",
    "\n",
    "df "
   ]
  },
  {
   "cell_type": "code",
   "execution_count": null,
   "id": "968e7d29-2cf6-425e-9cda-5588f4b7cd1b",
   "metadata": {},
   "outputs": [],
   "source": [
    "# Checking the number of mice.\n",
    "df = pd.read_csv('data/Mouse_metadata(1).csv')\n",
    "df.tail(1)\n"
   ]
  },
  {
   "cell_type": "code",
   "execution_count": null,
   "id": "0a3ca1fb-d6e0-4109-a7a9-2e04fe9045a5",
   "metadata": {},
   "outputs": [],
   "source": [
    "# Getting the duplicate mice by ID number that shows up for Mouse ID and Timepoint."
   ]
  },
  {
   "cell_type": "code",
   "execution_count": null,
   "id": "0ef28ae0-b8af-444b-8b38-c4a109ef6217",
   "metadata": {},
   "outputs": [],
   "source": [
    "# Create a clean DataFrame by dropping the duplicate mouse by its ID.\n",
    "import pandas as pd \n",
    "df = pd.read_csv(data/Mouse_metadata(1).csv)\n",
    "display(df)\n",
    "df.drop_duplicates()"
   ]
  },
  {
   "cell_type": "code",
   "execution_count": null,
   "id": "84a3cc52-8c57-4097-9cba-a2af3f9ac942",
   "metadata": {},
   "outputs": [],
   "source": [
    "# Checking the number of mice in the clean DataFrame.\n",
    "pd.Dataframe(\"total subjects\": [len (\"Mouse Id\"))"
   ]
  },
  {
   "cell_type": "code",
   "execution_count": null,
   "id": "95e93716-82dd-451e-9af9-73fab80ac294",
   "metadata": {},
   "outputs": [],
   "source": [
    " # Generate a summary statistics table of mean, median, variance, standard deviation, and SEM of the tumor volume for each regimen\n",
    "\n",
    "# Use groupby and summary statistical methods to calculate the following properties of each drug regimen: \n",
    "# mean, median, variance, standard deviation, and SEM of the tumor volume. \n",
    "# Assemble the resulting series into a single summary dataframe.\n",
    "mean= merge_data.groupby('drug regimen')('tumor valume').mean\n",
    "median = merge_data.groupby('drug regimen')('tumor volume').median\n",
    "varince = merge_data.groupby('drug regimen')('tumor volme').variance\n",
    "standard_deviation = merge_data.groupby('drug regimen')('tumor volume').standard_deviation\n",
    "sem = merge_data.groupby('drug regimen')('tumor volume').sem\n"
   ]
  },
  {
   "cell_type": "code",
   "execution_count": null,
   "id": "cc3d42fe-786e-4e99-a63a-a9d3d1bc1ad6",
   "metadata": {},
   "outputs": [],
   "source": [
    "# Generate a summary statistics table of mean, median, variance, standard deviation, and SEM of the tumor volume for each regimen\n",
    "\n",
    "# Using the aggregation method, produce the same summary statistics in a single line"
   ]
  },
  {
   "cell_type": "code",
   "execution_count": null,
   "id": "dec141e3-5c72-4ba6-85fb-70960ba8c502",
   "metadata": {},
   "outputs": [],
   "source": [
    "# Generate a bar plot showing the total number of timepoints for all mice tested for each drug regimen using Pandas.\n"
   ]
  },
  {
   "cell_type": "code",
   "execution_count": null,
   "id": "fe901417-f85d-4ff5-bb98-0d51a19e334b",
   "metadata": {},
   "outputs": [],
   "source": [
    "# Generate a bar plot showing the total number of timepoints for all mice tested for each drug regimen using pyplot."
   ]
  },
  {
   "cell_type": "code",
   "execution_count": 8,
   "id": "3bbfb494-ed84-4c2a-bdd3-c8dd1ff139a0",
   "metadata": {},
   "outputs": [
    {
     "ename": "SyntaxError",
     "evalue": "invalid syntax (1453290120.py, line 5)",
     "output_type": "error",
     "traceback": [
      "\u001b[0;36m  File \u001b[0;32m\"/var/folders/md/g17hh6nj7gj3sr4d3nvd8v400000gq/T/ipykernel_90936/1453290120.py\"\u001b[0;36m, line \u001b[0;32m5\u001b[0m\n\u001b[0;31m    plt.titlte(Male and female Percentage)\u001b[0m\n\u001b[0m                               ^\u001b[0m\n\u001b[0;31mSyntaxError\u001b[0m\u001b[0;31m:\u001b[0m invalid syntax\n"
     ]
    }
   ],
   "source": [
    "# Generate a pie plot showing the distribution of female versus male mice using Pandas\n",
    "pd.figure=(12,6)\n",
    "ax1 = pd.subplot(121,aspect = \"equal\")\n",
    "gender_df.plot(kind=\"pie\", y = \"Mouse ID\", ax = ax1, autopct= '%1.1f%%', startangle = 190, shadow = True, labels = gender_df[\"sex\"], legend = False, fontsixe = 15)\n",
    "pd.titlte(Male and female Percentage)\n",
    "pd.xlabel(\"\")\n",
    "pd.ylabel(\"\")\n"
   ]
  },
  {
   "cell_type": "code",
   "execution_count": null,
   "id": "0091e194-934d-4fff-9f77-357f72aba156",
   "metadata": {},
   "outputs": [],
   "source": [
    "# Generate a pie plot showing the distribution of female versus male mice using pyplot\n",
    "plt.figure=(,)\n",
    "gender_df.plot (kind = \"pie\", y = \"Mouse ID\", ax= ax1. autopact='%1.1f%%', startangle= 190, shadow = True , labels= gender_df[\"sex\"], legend = False fontsize = 15\n",
    "            )\n",
    "plt.title(male and female percentage)\n",
    "plt.xlabel(\"\")\n",
    "plt.ylabel(\"\")"
   ]
  },
  {
   "cell_type": "code",
   "execution_count": null,
   "id": "d4f08d71-5e32-4276-86a3-bdcbbe77e780",
   "metadata": {},
   "outputs": [],
   "source": [
    "# Calculate the final tumor volume of each mouse across four of the treatment regimens:  \n",
    "# Capomulin, Ramicane, Infubinol, and Ceftamin\n",
    "\n",
    "# Start by getting the last (greatest) timepoint for each mouse\n",
    "\n",
    "\n",
    "# Merge this group df with the original dataframe to get the tumor volume at the last timepoint"
   ]
  },
  {
   "cell_type": "code",
   "execution_count": null,
   "id": "4f2eb75b-3837-462b-ad78-3b9db430516c",
   "metadata": {},
   "outputs": [],
   "source": [
    "# Put treatments into a list for for loop (and later for plot labels)\n",
    "\n",
    "\n",
    "# Create empty list to fill with tumor vol data (for plotting)\n",
    "\n",
    "\n",
    "# Calculate the IQR and quantitatively determine if there are any potential outliers. \n",
    "\n",
    "    \n",
    "    # Locate the rows which contain mice on each drug and get the tumor volumes\n",
    "    \n",
    "    \n",
    "    # add subset \n",
    "    \n",
    "    \n",
    "    # Determine outliers using upper and lower bounds\n",
    "    "
   ]
  },
  {
   "cell_type": "code",
   "execution_count": null,
   "id": "95095658-4209-4bbc-8a1f-474194d7e7a9",
   "metadata": {},
   "outputs": [],
   "source": [
    "# Generate a box plot of the final tumor volume of each mouse across four regimens of interest"
   ]
  },
  {
   "cell_type": "code",
   "execution_count": null,
   "id": "a65de4f7-7e55-448c-b648-1bf063e6e5f0",
   "metadata": {},
   "outputs": [],
   "source": [
    "# Generate a line plot of tumor volume vs. time point for a mouse treated with Capomulin\n",
    " # Generate a scatter plot of average tumor volume vs. mouse weight for the Capomulin regimen"
   ]
  },
  {
   "cell_type": "code",
   "execution_count": null,
   "id": "6745facc-cb6d-425b-a54b-86fd75c9c4fa",
   "metadata": {},
   "outputs": [],
   "source": [
    "# Calculate the correlation coefficient and linear regression model \n",
    "# for mouse weight and average tumor volume for the Capomulin regimen\n",
    "  "
   ]
  }
 ],
 "metadata": {
  "kernelspec": {
   "display_name": "Python 3 (ipykernel)",
   "language": "python",
   "name": "python3"
  },
  "language_info": {
   "codemirror_mode": {
    "name": "ipython",
    "version": 3
   },
   "file_extension": ".py",
   "mimetype": "text/x-python",
   "name": "python",
   "nbconvert_exporter": "python",
   "pygments_lexer": "ipython3",
   "version": "3.9.7"
  }
 },
 "nbformat": 4,
 "nbformat_minor": 5
}
